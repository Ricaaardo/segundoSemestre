{
  "nbformat": 4,
  "nbformat_minor": 0,
  "metadata": {
    "colab": {
      "name": "guia 1",
      "provenance": [],
      "include_colab_link": true
    },
    "kernelspec": {
      "name": "python3",
      "display_name": "Python 3"
    }
  },
  "cells": [
    {
      "cell_type": "markdown",
      "metadata": {
        "id": "view-in-github",
        "colab_type": "text"
      },
      "source": [
        "<a href=\"https://colab.research.google.com/github/dhaarmaa/segundoSemestre/blob/master/guia_1.ipynb\" target=\"_parent\"><img src=\"https://colab.research.google.com/assets/colab-badge.svg\" alt=\"Open In Colab\"/></a>"
      ]
    },
    {
      "cell_type": "code",
      "metadata": {
        "id": "H1ruuDc8J7ap",
        "colab": {
          "base_uri": "https://localhost:8080/"
        },
        "outputId": "dfb2ff8a-6f3a-422b-d0c6-e8b2534dc322"
      },
      "source": [
        "#ejercicio 1 parte a\n",
        "a = []\n",
        "for n in range(1, 6):\n",
        "  a = 3*n**2+7\n",
        "  print(f'a({n}) = {a}')"
      ],
      "execution_count": null,
      "outputs": [
        {
          "output_type": "stream",
          "text": [
            "a(1) = 10\n",
            "a(2) = 19\n",
            "a(3) = 34\n",
            "a(4) = 55\n",
            "a(5) = 82\n"
          ],
          "name": "stdout"
        }
      ]
    },
    {
      "cell_type": "code",
      "metadata": {
        "id": "qJybW2_SKBlv",
        "colab": {
          "base_uri": "https://localhost:8080/"
        },
        "outputId": "334a6980-253f-4df6-ea71-1fe0e2ebc262"
      },
      "source": [
        "#ejercicio 1 parte b\n",
        "a = []\n",
        "for n in range(16, 21):\n",
        "  a = 3*n**2+7\n",
        "  print(f'a({n}) = {a}')"
      ],
      "execution_count": null,
      "outputs": [
        {
          "output_type": "stream",
          "text": [
            "a(15) = 682\n",
            "a(16) = 775\n",
            "a(17) = 874\n",
            "a(18) = 979\n",
            "a(19) = 1090\n",
            "a(20) = 1207\n"
          ],
          "name": "stdout"
        }
      ]
    },
    {
      "cell_type": "code",
      "metadata": {
        "id": "I-7SArUyOanh",
        "colab": {
          "base_uri": "https://localhost:8080/"
        },
        "outputId": "39a76be7-97e5-4276-8d15-575659cc353f"
      },
      "source": [
        "#ejercicio 2 parte a\n",
        "#5n^^2\n",
        "for n in range(1,5):\n",
        "  a = 5*n**3\n",
        "  print(f'a({n}) = {a}')"
      ],
      "execution_count": null,
      "outputs": [
        {
          "output_type": "stream",
          "text": [
            "a(1) = 5\n",
            "a(2) = 40\n",
            "a(3) = 135\n",
            "a(4) = 320\n"
          ],
          "name": "stdout"
        }
      ]
    },
    {
      "cell_type": "code",
      "metadata": {
        "id": "zG-bqd7RQOoz",
        "colab": {
          "base_uri": "https://localhost:8080/"
        },
        "outputId": "d7151f44-38fe-4f9e-c0db-d7967ed21b24"
      },
      "source": [
        "#ejercicio 2 parte b\n",
        "for n in range(9,13):\n",
        "  a = 5*n**3\n",
        "  print(f'a({n}) = {a}')"
      ],
      "execution_count": null,
      "outputs": [
        {
          "output_type": "stream",
          "text": [
            "a(9) = 3645\n",
            "a(10) = 5000\n",
            "a(11) = 6655\n",
            "a(12) = 8640\n"
          ],
          "name": "stdout"
        }
      ]
    },
    {
      "cell_type": "code",
      "metadata": {
        "id": "HIlpllRVRL4n"
      },
      "source": [
        "#ejercicio  2 parte c\n",
        "#preguntar a la profe\n",
        "\n"
      ],
      "execution_count": null,
      "outputs": []
    },
    {
      "cell_type": "code",
      "metadata": {
        "id": "IGwh5802SfPD",
        "colab": {
          "base_uri": "https://localhost:8080/"
        },
        "outputId": "5b4129b0-c9fe-4b53-bd47-3d52e87195c3"
      },
      "source": [
        "#ejercicio 3 parte a\n",
        "for n in range(1,21):\n",
        "  k = (-1)**n\n",
        "  print(f'k({n}) =  {k}')"
      ],
      "execution_count": null,
      "outputs": [
        {
          "output_type": "stream",
          "text": [
            "k(1) =  -1\n",
            "k(2) =  1\n",
            "k(3) =  -1\n",
            "k(4) =  1\n",
            "k(5) =  -1\n",
            "k(6) =  1\n",
            "k(7) =  -1\n",
            "k(8) =  1\n",
            "k(9) =  -1\n",
            "k(10) =  1\n",
            "k(11) =  -1\n",
            "k(12) =  1\n",
            "k(13) =  -1\n",
            "k(14) =  1\n",
            "k(15) =  -1\n",
            "k(16) =  1\n",
            "k(17) =  -1\n",
            "k(18) =  1\n",
            "k(19) =  -1\n",
            "k(20) =  1\n"
          ],
          "name": "stdout"
        }
      ]
    },
    {
      "cell_type": "code",
      "metadata": {
        "id": "ly2mlYHUTCpl"
      },
      "source": [
        "#ejercicio 3 parte b\n",
        "# dependiendo de que si el numero levado es ar sale positivo y si es impar sale"
      ],
      "execution_count": null,
      "outputs": []
    },
    {
      "cell_type": "code",
      "metadata": {
        "id": "a5InPxXATrUq"
      },
      "source": [
        "#ejercicio 3 parte c \n",
        "#for n in range(1,2021):\n",
        "  #k = (-1)**n\n",
        " # print(f'k({n}) =  {k}')\n",
        "  #sale positivo"
      ],
      "execution_count": null,
      "outputs": []
    },
    {
      "cell_type": "code",
      "metadata": {
        "id": "2GV3T0joT_t5",
        "colab": {
          "base_uri": "https://localhost:8080/"
        },
        "outputId": "6d563c44-4748-441e-b0ac-22954c52fbfe"
      },
      "source": [
        "#Ejercicio 4 parte a\n",
        "for n in range(1,101):\n",
        "  a = 6*n*(-1)**n\n",
        "  print(f'a({n}) = {a}')"
      ],
      "execution_count": null,
      "outputs": [
        {
          "output_type": "stream",
          "text": [
            "a(1) = -6\n",
            "a(2) = 12\n",
            "a(3) = -18\n",
            "a(4) = 24\n",
            "a(5) = -30\n",
            "a(6) = 36\n",
            "a(7) = -42\n",
            "a(8) = 48\n",
            "a(9) = -54\n",
            "a(10) = 60\n",
            "a(11) = -66\n",
            "a(12) = 72\n",
            "a(13) = -78\n",
            "a(14) = 84\n",
            "a(15) = -90\n",
            "a(16) = 96\n",
            "a(17) = -102\n",
            "a(18) = 108\n",
            "a(19) = -114\n",
            "a(20) = 120\n",
            "a(21) = -126\n",
            "a(22) = 132\n",
            "a(23) = -138\n",
            "a(24) = 144\n",
            "a(25) = -150\n",
            "a(26) = 156\n",
            "a(27) = -162\n",
            "a(28) = 168\n",
            "a(29) = -174\n",
            "a(30) = 180\n",
            "a(31) = -186\n",
            "a(32) = 192\n",
            "a(33) = -198\n",
            "a(34) = 204\n",
            "a(35) = -210\n",
            "a(36) = 216\n",
            "a(37) = -222\n",
            "a(38) = 228\n",
            "a(39) = -234\n",
            "a(40) = 240\n",
            "a(41) = -246\n",
            "a(42) = 252\n",
            "a(43) = -258\n",
            "a(44) = 264\n",
            "a(45) = -270\n",
            "a(46) = 276\n",
            "a(47) = -282\n",
            "a(48) = 288\n",
            "a(49) = -294\n",
            "a(50) = 300\n",
            "a(51) = -306\n",
            "a(52) = 312\n",
            "a(53) = -318\n",
            "a(54) = 324\n",
            "a(55) = -330\n",
            "a(56) = 336\n",
            "a(57) = -342\n",
            "a(58) = 348\n",
            "a(59) = -354\n",
            "a(60) = 360\n",
            "a(61) = -366\n",
            "a(62) = 372\n",
            "a(63) = -378\n",
            "a(64) = 384\n",
            "a(65) = -390\n",
            "a(66) = 396\n",
            "a(67) = -402\n",
            "a(68) = 408\n",
            "a(69) = -414\n",
            "a(70) = 420\n",
            "a(71) = -426\n",
            "a(72) = 432\n",
            "a(73) = -438\n",
            "a(74) = 444\n",
            "a(75) = -450\n",
            "a(76) = 456\n",
            "a(77) = -462\n",
            "a(78) = 468\n",
            "a(79) = -474\n",
            "a(80) = 480\n",
            "a(81) = -486\n",
            "a(82) = 492\n",
            "a(83) = -498\n",
            "a(84) = 504\n",
            "a(85) = -510\n",
            "a(86) = 516\n",
            "a(87) = -522\n",
            "a(88) = 528\n",
            "a(89) = -534\n",
            "a(90) = 540\n",
            "a(91) = -546\n",
            "a(92) = 552\n",
            "a(93) = -558\n",
            "a(94) = 564\n",
            "a(95) = -570\n",
            "a(96) = 576\n",
            "a(97) = -582\n",
            "a(98) = 588\n",
            "a(99) = -594\n",
            "a(100) = 600\n"
          ],
          "name": "stdout"
        }
      ]
    },
    {
      "cell_type": "code",
      "metadata": {
        "id": "OaLCRA8uVIhj"
      },
      "source": [
        "#ejercicio 4 parte b\n",
        "#dependiendo del numero negativo elevado sale positivo o negativo"
      ],
      "execution_count": null,
      "outputs": []
    }
  ]
}