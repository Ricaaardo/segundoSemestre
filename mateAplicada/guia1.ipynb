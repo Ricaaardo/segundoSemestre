{
  "nbformat": 4,
  "nbformat_minor": 0,
  "metadata": {
    "colab": {
      "name": "guia1.ipynb",
      "provenance": [],
      "collapsed_sections": [],
      "toc_visible": true,
      "authorship_tag": "ABX9TyOJ4oupYbSQr1GzQHda3zDA",
      "include_colab_link": true
    },
    "kernelspec": {
      "name": "python3",
      "display_name": "Python 3"
    },
    "language_info": {
      "name": "python"
    }
  },
  "cells": [
    {
      "cell_type": "markdown",
      "metadata": {
        "id": "view-in-github",
        "colab_type": "text"
      },
      "source": [
        "<a href=\"https://colab.research.google.com/github/dhaarmaa/segundoSemestre/blob/dhaarmaa/mateAplicada/guia1.ipynb\" target=\"_parent\"><img src=\"https://colab.research.google.com/assets/colab-badge.svg\" alt=\"Open In Colab\"/></a>"
      ]
    },
    {
      "cell_type": "markdown",
      "metadata": {
        "id": "_Oi_Nkj32LiS"
      },
      "source": [
        "## **Desarrollo de Guia 1**\n",
        "Ejercicio 1 letra a"
      ]
    },
    {
      "cell_type": "code",
      "metadata": {
        "id": "YL_XD8ci2Uc2"
      },
      "source": [
        "a = []\n",
        "for n in range(1, 6):\n",
        "  a = 3*n**2+7\n",
        "  print(f'a({n}) = {a}')"
      ],
      "execution_count": null,
      "outputs": []
    },
    {
      "cell_type": "markdown",
      "metadata": {
        "id": "wn9rQ9ZN2huS"
      },
      "source": [
        "Ejercicio 1 letra b"
      ]
    },
    {
      "cell_type": "code",
      "metadata": {
        "id": "PXQHOHmE5MzQ"
      },
      "source": [
        "a = []\n",
        "for n in range(16, 21):\n",
        "  a = 3*n**2+7\n",
        "  print(f'a({n}) = {a}')"
      ],
      "execution_count": null,
      "outputs": []
    },
    {
      "cell_type": "markdown",
      "metadata": {
        "id": "_aE_da-X5PU7"
      },
      "source": [
        "Ejercicio 2 letra a"
      ]
    },
    {
      "cell_type": "code",
      "metadata": {
        "id": "1Rf4c6UH5VEy"
      },
      "source": [
        "for n in range(1,5):\n",
        "  a = 5*n**3\n",
        "  print(f'a({n}) = {a}')"
      ],
      "execution_count": null,
      "outputs": []
    },
    {
      "cell_type": "markdown",
      "metadata": {
        "id": "gzstdU4p5e64"
      },
      "source": [
        "Ejercicio 2 letra b"
      ]
    },
    {
      "cell_type": "code",
      "metadata": {
        "id": "IAe-ydws5gu3"
      },
      "source": [
        "for n in range(9,13):\n",
        "  a = 5*n**3\n",
        "  print(f'a({n}) = {a}')"
      ],
      "execution_count": null,
      "outputs": []
    },
    {
      "cell_type": "markdown",
      "metadata": {
        "id": "gNYRsdB4562i"
      },
      "source": [
        "Ejercicio 3 letra a"
      ]
    },
    {
      "cell_type": "code",
      "metadata": {
        "id": "uxxMEl0f59x-"
      },
      "source": [
        "for n in range(1,21):\n",
        "  k = (-1)**n\n",
        "  print(f'k({n}) =  {k}')"
      ],
      "execution_count": null,
      "outputs": []
    },
    {
      "cell_type": "markdown",
      "metadata": {
        "id": "N4kTxb5y5_7M"
      },
      "source": [
        "ejercicio 3 letra b\n",
        "\n",
        "*  Dependiendo de que si el numero levado es ar sale positivo y si es impar sale\n",
        "\n",
        "ejercicio 3 letra c\n",
        "*  sale positivo por ser un numero par\n",
        "\n",
        "Ejercicio 4 letra a"
      ]
    },
    {
      "cell_type": "code",
      "metadata": {
        "id": "izRRFBiE63P3"
      },
      "source": [
        "for n in range(1,101):\n",
        "  a = 6*n*(-1)**n\n",
        "  print(f'a({n}) = {a}')"
      ],
      "execution_count": null,
      "outputs": []
    },
    {
      "cell_type": "markdown",
      "metadata": {
        "id": "TV3U-R0A6-xC"
      },
      "source": [
        "Ejercicio 4 letra b\n",
        "*   dependiendo del numero negativo elevado sale positivo o negativo\n",
        "\n",
        "Ejercicio 5 letra a"
      ]
    },
    {
      "cell_type": "code",
      "metadata": {
        "colab": {
          "base_uri": "https://localhost:8080/"
        },
        "id": "fd8bYT5z_p37",
        "outputId": "30ba954b-fbd6-4cd9-921a-fe32510557a2"
      },
      "source": [
        "for i in range (5):\n",
        "  n = 10**(i+1)\n",
        "  a = 1/n\n",
        "  print(f'a({n})= {a}')"
      ],
      "execution_count": null,
      "outputs": [
        {
          "output_type": "stream",
          "text": [
            "a(10)= 0.1\n",
            "a(100)= 0.01\n",
            "a(1000)= 0.001\n",
            "a(10000)= 0.0001\n",
            "a(100000)= 1e-05\n"
          ],
          "name": "stdout"
        }
      ]
    },
    {
      "cell_type": "markdown",
      "metadata": {
        "id": "-lU32IycDuqW"
      },
      "source": [
        "Ejercicio 6 etra a"
      ]
    },
    {
      "cell_type": "code",
      "metadata": {
        "colab": {
          "base_uri": "https://localhost:8080/"
        },
        "id": "NI4Js3EK-pyf",
        "outputId": "d796a275-473b-4b73-9fce-f77e88606763"
      },
      "source": [
        "#codigo de guia\n",
        "b=[]\n",
        "for i in range (5):\n",
        "  n=10**(i+1)\n",
        "  b.append((1+1/n)**n)\n",
        "  print (f'b({n})=',b[i])\n",
        " "
      ],
      "execution_count": null,
      "outputs": [
        {
          "output_type": "stream",
          "text": [
            "b(10)= 2.5937424601000023\n",
            "b(100)= 2.7048138294215285\n",
            "b(1000)= 2.7169239322355936\n",
            "b(10000)= 2.7181459268249255\n",
            "b(100000)= 2.7182682371922975\n"
          ],
          "name": "stdout"
        }
      ]
    },
    {
      "cell_type": "code",
      "metadata": {
        "colab": {
          "base_uri": "https://localhost:8080/"
        },
        "id": "6aZfpmOMD1M3",
        "outputId": "6dcfd11e-374e-4592-b3d0-d6c740d22e47"
      },
      "source": [
        "for i in range(1,6):\n",
        "  n = 10**i\n",
        "  b = (1+(1/n))**n\n",
        "  print(f'b({n}) = {b}')"
      ],
      "execution_count": null,
      "outputs": [
        {
          "output_type": "stream",
          "text": [
            "b(10) = 2.5937424601000023\n",
            "b(100) = 2.7048138294215285\n",
            "b(1000) = 2.7169239322355936\n",
            "b(10000) = 2.7181459268249255\n",
            "b(100000) = 2.7182682371922975\n"
          ],
          "name": "stdout"
        }
      ]
    },
    {
      "cell_type": "markdown",
      "metadata": {
        "id": "WB-4MziXFjXR"
      },
      "source": [
        "Ejercicio 6 letra c"
      ]
    },
    {
      "cell_type": "code",
      "metadata": {
        "colab": {
          "base_uri": "https://localhost:8080/"
        },
        "id": "dsr25utrFoV8",
        "outputId": "de45ff64-99ca-4f26-f365-30b38166ecd9"
      },
      "source": [
        "from math import e\n",
        "print(e)\n",
        "\n",
        "for i in range(1,6):\n",
        "  n = 10**i\n",
        "  b = (1+(1/n))**n\n",
        "  if b > e:\n",
        "    print(f'el termino {b} es mayor que {e}')\n",
        "  else:\n",
        "    print(f'El terino {b} es menor que {e}')"
      ],
      "execution_count": null,
      "outputs": [
        {
          "output_type": "stream",
          "text": [
            "2.718281828459045\n",
            "El terino 2.5937424601000023 es menor que 2.718281828459045\n",
            "El terino 2.7048138294215285 es menor que 2.718281828459045\n",
            "El terino 2.7169239322355936 es menor que 2.718281828459045\n",
            "El terino 2.7181459268249255 es menor que 2.718281828459045\n",
            "El terino 2.7182682371922975 es menor que 2.718281828459045\n"
          ],
          "name": "stdout"
        }
      ]
    },
    {
      "cell_type": "markdown",
      "metadata": {
        "id": "NynXoYh7ZOyQ"
      },
      "source": [
        "Ejercicio 7 letra b\n",
        "\n"
      ]
    },
    {
      "cell_type": "code",
      "metadata": {
        "colab": {
          "base_uri": "https://localhost:8080/"
        },
        "id": "HW_e2nBvZQzm",
        "outputId": "1eeffb35-75ff-4838-a721-db7fadc751da"
      },
      "source": [
        "for i in range(1,7):\n",
        "  n = i*5\n",
        "  print (n)"
      ],
      "execution_count": null,
      "outputs": [
        {
          "output_type": "stream",
          "text": [
            "5\n",
            "10\n",
            "15\n",
            "20\n",
            "25\n",
            "30\n"
          ],
          "name": "stdout"
        }
      ]
    },
    {
      "cell_type": "markdown",
      "metadata": {
        "id": "jHGLcNCybGD5"
      },
      "source": [
        "Ejercicio 8 letra b"
      ]
    },
    {
      "cell_type": "code",
      "metadata": {
        "id": "v337i6YmbIYx",
        "colab": {
          "base_uri": "https://localhost:8080/"
        },
        "outputId": "17e15450-d545-4710-e36e-d63c48587f4e"
      },
      "source": [
        "for i in range(1,7):\n",
        "  n = i*7\n",
        "  print (n)"
      ],
      "execution_count": 1,
      "outputs": [
        {
          "output_type": "stream",
          "text": [
            "7\n",
            "14\n",
            "21\n",
            "28\n",
            "35\n",
            "42\n"
          ],
          "name": "stdout"
        }
      ]
    },
    {
      "cell_type": "markdown",
      "metadata": {
        "id": "i87YInwHbKeY"
      },
      "source": [
        "susecion de fibanaci tarea"
      ]
    },
    {
      "cell_type": "markdown",
      "metadata": {
        "id": "VGqatykZbuUp"
      },
      "source": [
        "Ejercicio 9\n",
        "\n",
        "(tn)=(2, 5, 10, 17, 26, 37,...)"
      ]
    },
    {
      "cell_type": "code",
      "metadata": {
        "colab": {
          "base_uri": "https://localhost:8080/"
        },
        "id": "BIlT4597b-HH",
        "outputId": "cd329dc1-2a79-41a6-9448-e8968e7de537"
      },
      "source": [
        "for n in range(7):\n",
        "\n",
        "  t = ((n+1)**2)+1\n",
        "\n",
        "  print(f\"t({n}): {t}\")"
      ],
      "execution_count": null,
      "outputs": [
        {
          "output_type": "stream",
          "text": [
            "t(0): 2\n",
            "t(1): 5\n",
            "t(2): 10\n",
            "t(3): 17\n",
            "t(4): 26\n",
            "t(5): 37\n",
            "t(6): 50\n"
          ],
          "name": "stdout"
        }
      ]
    },
    {
      "cell_type": "code",
      "metadata": {
        "colab": {
          "base_uri": "https://localhost:8080/"
        },
        "id": "3KZRIuDWes-w",
        "outputId": "78966eb0-2b5b-4918-c6c4-34ae172599a9"
      },
      "source": [
        "u=[]\n",
        "\n",
        "for i in range(6):\n",
        "\n",
        "  n=i+1\n",
        "\n",
        "  u.append(n**2+1)\n",
        "\n",
        "  print(u[i])"
      ],
      "execution_count": null,
      "outputs": [
        {
          "output_type": "stream",
          "text": [
            "2\n",
            "5\n",
            "10\n",
            "17\n",
            "26\n",
            "37\n"
          ],
          "name": "stdout"
        }
      ]
    },
    {
      "cell_type": "markdown",
      "metadata": {
        "id": "7KxucmFvf5ar"
      },
      "source": [
        "(10, 40, 90, 160, 250, 360,.)"
      ]
    },
    {
      "cell_type": "code",
      "metadata": {
        "colab": {
          "base_uri": "https://localhost:8080/"
        },
        "id": "KNUQ7Hy3fW5v",
        "outputId": "f089b0ca-9c9c-4832-cfaa-c0e9b4b40749"
      },
      "source": [
        "for n in range(6):\n",
        "\n",
        "  t = ((n+1)**2)*10\n",
        "\n",
        "  print(f\"t({n+1}): {t}\")"
      ],
      "execution_count": null,
      "outputs": [
        {
          "output_type": "stream",
          "text": [
            "t(1): 10\n",
            "t(2): 40\n",
            "t(3): 90\n",
            "t(4): 160\n",
            "t(5): 250\n",
            "t(6): 360\n"
          ],
          "name": "stdout"
        }
      ]
    },
    {
      "cell_type": "markdown",
      "metadata": {
        "id": "PBVEABXxiKit"
      },
      "source": [
        "Sucesion aritmetica\n",
        "\n",
        "an = a1 + (n1)d\n",
        "\n",
        "an =  4+12(n-1) "
      ]
    },
    {
      "cell_type": "markdown",
      "metadata": {
        "id": "Kh_epc1s2-QJ"
      },
      "source": [
        "Ejercicio 11 letra c"
      ]
    },
    {
      "cell_type": "code",
      "metadata": {
        "id": "g00uNYcojbss",
        "colab": {
          "base_uri": "https://localhost:8080/"
        },
        "outputId": "ad6a8766-44a3-403a-8afb-29630af2c94d"
      },
      "source": [
        "\n",
        "def ejercicio11c():\n",
        "  n =int(input(\"Ingrese un numero: \"))\n",
        "  a = 25.72+1.21*(n-1)\n",
        "  print(a)\n",
        "\n",
        "ejercicio11c()"
      ],
      "execution_count": 5,
      "outputs": [
        {
          "output_type": "stream",
          "text": [
            "Ingrese un numero320\n",
            "411.71000000000004\n"
          ],
          "name": "stdout"
        }
      ]
    },
    {
      "cell_type": "markdown",
      "metadata": {
        "id": "5duz_RC786bF"
      },
      "source": [
        "Ejercicio 12 letra b"
      ]
    },
    {
      "cell_type": "code",
      "metadata": {
        "colab": {
          "base_uri": "https://localhost:8080/"
        },
        "id": "WLcHTAHz6y6-",
        "outputId": "ffc5363a-e302-40ba-9879-d284c2ca54db"
      },
      "source": [
        "a = -20-4*(10-1)\n",
        "print(a)"
      ],
      "execution_count": 6,
      "outputs": [
        {
          "output_type": "stream",
          "text": [
            "-56\n"
          ],
          "name": "stdout"
        }
      ]
    },
    {
      "cell_type": "markdown",
      "metadata": {
        "id": "5NIw9r0q9C-e"
      },
      "source": [
        "Ejercicio 12 letra c"
      ]
    },
    {
      "cell_type": "code",
      "metadata": {
        "colab": {
          "base_uri": "https://localhost:8080/"
        },
        "id": "I3oCvJlQ9F5K",
        "outputId": "ee1270b6-27c3-445e-97bf-e9c9a51864e8"
      },
      "source": [
        "def ejercicio12c():\n",
        "  n =int(input(\"Ingrese un numero: \"))\n",
        "  a = -56+4*(n-1)\n",
        "  print(a)\n",
        "\n",
        "ejercicio12c()}"
      ],
      "execution_count": 8,
      "outputs": [
        {
          "output_type": "stream",
          "text": [
            "Ingrese un numero: 435\n",
            "1680\n"
          ],
          "name": "stdout"
        }
      ]
    }
  ]
}