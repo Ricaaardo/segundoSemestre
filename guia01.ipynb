{
  "nbformat": 4,
  "nbformat_minor": 0,
  "metadata": {
    "colab": {
      "name": "Untitled0.ipynb",
      "provenance": [],
      "toc_visible": true,
      "authorship_tag": "ABX9TyOzob2a9raUADl2ygZvLS+J",
      "include_colab_link": true
    },
    "kernelspec": {
      "name": "python3",
      "display_name": "Python 3"
    },
    "language_info": {
      "name": "python"
    }
  },
  "cells": [
    {
      "cell_type": "markdown",
      "metadata": {
        "id": "view-in-github",
        "colab_type": "text"
      },
      "source": [
        "<a href=\"https://colab.research.google.com/github/dhaarmaa/segundoSemestre/blob/dhaarmaa/guia01.ipynb\" target=\"_parent\"><img src=\"https://colab.research.google.com/assets/colab-badge.svg\" alt=\"Open In Colab\"/></a>"
      ]
    },
    {
      "cell_type": "code",
      "metadata": {
        "id": "Nw-QlgrL17oH"
      },
      "source": [
        ""
      ],
      "execution_count": null,
      "outputs": []
    },
    {
      "cell_type": "markdown",
      "metadata": {
        "id": "_Oi_Nkj32LiS"
      },
      "source": [
        "## **Desarrollo de Guia 1**\n",
        "Ejercicio 1 letra a"
      ]
    },
    {
      "cell_type": "code",
      "metadata": {
        "id": "YL_XD8ci2Uc2"
      },
      "source": [
        "a = []\n",
        "for n in range(1, 6):\n",
        "  a = 3*n**2+7\n",
        "  print(f'a({n}) = {a}')"
      ],
      "execution_count": null,
      "outputs": []
    },
    {
      "cell_type": "markdown",
      "metadata": {
        "id": "wn9rQ9ZN2huS"
      },
      "source": [
        "Ejercicio 1 letra b"
      ]
    },
    {
      "cell_type": "code",
      "metadata": {
        "id": "PXQHOHmE5MzQ"
      },
      "source": [
        "a = []\n",
        "for n in range(16, 21):\n",
        "  a = 3*n**2+7\n",
        "  print(f'a({n}) = {a}')"
      ],
      "execution_count": null,
      "outputs": []
    },
    {
      "cell_type": "markdown",
      "metadata": {
        "id": "_aE_da-X5PU7"
      },
      "source": [
        "Ejercicio 2 letra a"
      ]
    },
    {
      "cell_type": "code",
      "metadata": {
        "id": "1Rf4c6UH5VEy"
      },
      "source": [
        "for n in range(1,5):\n",
        "  a = 5*n**3\n",
        "  print(f'a({n}) = {a}')"
      ],
      "execution_count": null,
      "outputs": []
    },
    {
      "cell_type": "markdown",
      "metadata": {
        "id": "gzstdU4p5e64"
      },
      "source": [
        "Ejercicio 2 letra b"
      ]
    },
    {
      "cell_type": "code",
      "metadata": {
        "id": "IAe-ydws5gu3"
      },
      "source": [
        "for n in range(9,13):\n",
        "  a = 5*n**3\n",
        "  print(f'a({n}) = {a}')"
      ],
      "execution_count": null,
      "outputs": []
    },
    {
      "cell_type": "markdown",
      "metadata": {
        "id": "gNYRsdB4562i"
      },
      "source": [
        "Ejercicio 3 letra a"
      ]
    },
    {
      "cell_type": "code",
      "metadata": {
        "id": "uxxMEl0f59x-"
      },
      "source": [
        "for n in range(1,21):\n",
        "  k = (-1)**n\n",
        "  print(f'k({n}) =  {k}')"
      ],
      "execution_count": null,
      "outputs": []
    },
    {
      "cell_type": "markdown",
      "metadata": {
        "id": "N4kTxb5y5_7M"
      },
      "source": [
        "ejercicio 3 letra b\n",
        "\n",
        "*  Dependiendo de que si el numero levado es ar sale positivo y si es impar sale\n",
        "\n",
        "ejercicio 3 letra c\n",
        "*  sale positivo por ser un numero par\n",
        "\n",
        "Ejercicio 4 letra a"
      ]
    },
    {
      "cell_type": "code",
      "metadata": {
        "id": "izRRFBiE63P3"
      },
      "source": [
        "for n in range(1,101):\n",
        "  a = 6*n*(-1)**n\n",
        "  print(f'a({n}) = {a}')"
      ],
      "execution_count": null,
      "outputs": []
    },
    {
      "cell_type": "markdown",
      "metadata": {
        "id": "TV3U-R0A6-xC"
      },
      "source": [
        "Ejercicio 4 letra b\n",
        "*   dependiendo del numero negativo elevado sale positivo o negativo"
      ]
    }
  ]
}